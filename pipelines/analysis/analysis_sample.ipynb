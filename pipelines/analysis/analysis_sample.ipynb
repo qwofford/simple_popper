{
 "cells": [
  {
   "cell_type": "code",
   "execution_count": 24,
   "metadata": {},
   "outputs": [
    {
     "name": "stdout",
     "output_type": "stream",
     "text": [
      "Populating the interactive namespace from numpy and matplotlib\n"
     ]
    }
   ],
   "source": [
    "%pylab inline\n",
    "\n",
    "import pandas as pd"
   ]
  },
  {
   "cell_type": "markdown",
   "metadata": {},
   "source": [
    "## Easy to load\n",
    "\n",
    "Note: If you haven't done so yet, generate a \"result.csv\" file by runnning ```make result``` from the command line in the parent directory of this git repository"
   ]
  },
  {
   "cell_type": "code",
   "execution_count": 25,
   "metadata": {
    "collapsed": true
   },
   "outputs": [],
   "source": [
    "df = pd.read_csv('../data_generator/results/result.csv')"
   ]
  },
  {
   "cell_type": "code",
   "execution_count": 26,
   "metadata": {},
   "outputs": [
    {
     "data": {
      "text/html": [
       "<div>\n",
       "<style>\n",
       "    .dataframe thead tr:only-child th {\n",
       "        text-align: right;\n",
       "    }\n",
       "\n",
       "    .dataframe thead th {\n",
       "        text-align: left;\n",
       "    }\n",
       "\n",
       "    .dataframe tbody tr th {\n",
       "        vertical-align: top;\n",
       "    }\n",
       "</style>\n",
       "<table border=\"1\" class=\"dataframe\">\n",
       "  <thead>\n",
       "    <tr style=\"text-align: right;\">\n",
       "      <th></th>\n",
       "      <th>here</th>\n",
       "      <th>is</th>\n",
       "      <th>a</th>\n",
       "      <th>sample</th>\n",
       "      <th>header</th>\n",
       "      <th>to</th>\n",
       "      <th>try</th>\n",
       "    </tr>\n",
       "  </thead>\n",
       "  <tbody>\n",
       "    <tr>\n",
       "      <th>0</th>\n",
       "      <td>6771</td>\n",
       "      <td>3406</td>\n",
       "      <td>474</td>\n",
       "      <td>130</td>\n",
       "      <td>1717</td>\n",
       "      <td>2331</td>\n",
       "      <td>5377</td>\n",
       "    </tr>\n",
       "    <tr>\n",
       "      <th>1</th>\n",
       "      <td>375</td>\n",
       "      <td>3743</td>\n",
       "      <td>4036</td>\n",
       "      <td>7123</td>\n",
       "      <td>312</td>\n",
       "      <td>1745</td>\n",
       "      <td>553</td>\n",
       "    </tr>\n",
       "    <tr>\n",
       "      <th>2</th>\n",
       "      <td>5224</td>\n",
       "      <td>5135</td>\n",
       "      <td>1776</td>\n",
       "      <td>3443</td>\n",
       "      <td>2730</td>\n",
       "      <td>4075</td>\n",
       "      <td>3100</td>\n",
       "    </tr>\n",
       "    <tr>\n",
       "      <th>3</th>\n",
       "      <td>4304</td>\n",
       "      <td>7300</td>\n",
       "      <td>7157</td>\n",
       "      <td>3175</td>\n",
       "      <td>6552</td>\n",
       "      <td>2554</td>\n",
       "      <td>2766</td>\n",
       "    </tr>\n",
       "    <tr>\n",
       "      <th>4</th>\n",
       "      <td>4023</td>\n",
       "      <td>5754</td>\n",
       "      <td>7457</td>\n",
       "      <td>3113</td>\n",
       "      <td>3175</td>\n",
       "      <td>1617</td>\n",
       "      <td>1344</td>\n",
       "    </tr>\n",
       "  </tbody>\n",
       "</table>\n",
       "</div>"
      ],
      "text/plain": [
       "   here    is     a  sample  header    to   try\n",
       "0  6771  3406   474     130    1717  2331  5377\n",
       "1   375  3743  4036    7123     312  1745   553\n",
       "2  5224  5135  1776    3443    2730  4075  3100\n",
       "3  4304  7300  7157    3175    6552  2554  2766\n",
       "4  4023  5754  7457    3113    3175  1617  1344"
      ]
     },
     "execution_count": 26,
     "metadata": {},
     "output_type": "execute_result"
    }
   ],
   "source": [
    "df.head()"
   ]
  },
  {
   "cell_type": "markdown",
   "metadata": {},
   "source": [
    "## Quick to analyze"
   ]
  },
  {
   "cell_type": "code",
   "execution_count": 27,
   "metadata": {},
   "outputs": [
    {
     "data": {
      "text/html": [
       "<div>\n",
       "<style>\n",
       "    .dataframe thead tr:only-child th {\n",
       "        text-align: right;\n",
       "    }\n",
       "\n",
       "    .dataframe thead th {\n",
       "        text-align: left;\n",
       "    }\n",
       "\n",
       "    .dataframe tbody tr th {\n",
       "        vertical-align: top;\n",
       "    }\n",
       "</style>\n",
       "<table border=\"1\" class=\"dataframe\">\n",
       "  <thead>\n",
       "    <tr style=\"text-align: right;\">\n",
       "      <th></th>\n",
       "      <th>here</th>\n",
       "      <th>is</th>\n",
       "      <th>a</th>\n",
       "      <th>sample</th>\n",
       "      <th>header</th>\n",
       "      <th>to</th>\n",
       "      <th>try</th>\n",
       "    </tr>\n",
       "  </thead>\n",
       "  <tbody>\n",
       "    <tr>\n",
       "      <th>count</th>\n",
       "      <td>25100.000000</td>\n",
       "      <td>25100.000000</td>\n",
       "      <td>25100.000000</td>\n",
       "      <td>25100.000000</td>\n",
       "      <td>25100.000000</td>\n",
       "      <td>25100.000000</td>\n",
       "      <td>25100.000000</td>\n",
       "    </tr>\n",
       "    <tr>\n",
       "      <th>mean</th>\n",
       "      <td>3892.601594</td>\n",
       "      <td>3904.173825</td>\n",
       "      <td>3886.898765</td>\n",
       "      <td>3860.555737</td>\n",
       "      <td>3912.262032</td>\n",
       "      <td>3875.674422</td>\n",
       "      <td>3885.523984</td>\n",
       "    </tr>\n",
       "    <tr>\n",
       "      <th>std</th>\n",
       "      <td>2311.807900</td>\n",
       "      <td>2289.355877</td>\n",
       "      <td>2307.604485</td>\n",
       "      <td>2292.949294</td>\n",
       "      <td>2294.116489</td>\n",
       "      <td>2299.705854</td>\n",
       "      <td>2305.860627</td>\n",
       "    </tr>\n",
       "    <tr>\n",
       "      <th>min</th>\n",
       "      <td>0.000000</td>\n",
       "      <td>0.000000</td>\n",
       "      <td>0.000000</td>\n",
       "      <td>0.000000</td>\n",
       "      <td>0.000000</td>\n",
       "      <td>0.000000</td>\n",
       "      <td>0.000000</td>\n",
       "    </tr>\n",
       "    <tr>\n",
       "      <th>25%</th>\n",
       "      <td>1773.000000</td>\n",
       "      <td>2030.750000</td>\n",
       "      <td>1770.750000</td>\n",
       "      <td>1762.000000</td>\n",
       "      <td>2024.000000</td>\n",
       "      <td>1773.000000</td>\n",
       "      <td>1766.000000</td>\n",
       "    </tr>\n",
       "    <tr>\n",
       "      <th>50%</th>\n",
       "      <td>4024.000000</td>\n",
       "      <td>4007.000000</td>\n",
       "      <td>4004.000000</td>\n",
       "      <td>3747.000000</td>\n",
       "      <td>4011.000000</td>\n",
       "      <td>3757.000000</td>\n",
       "      <td>3773.000000</td>\n",
       "    </tr>\n",
       "    <tr>\n",
       "      <th>75%</th>\n",
       "      <td>6001.000000</td>\n",
       "      <td>5776.000000</td>\n",
       "      <td>6002.000000</td>\n",
       "      <td>5756.000000</td>\n",
       "      <td>6014.000000</td>\n",
       "      <td>5773.000000</td>\n",
       "      <td>6001.000000</td>\n",
       "    </tr>\n",
       "    <tr>\n",
       "      <th>max</th>\n",
       "      <td>7777.000000</td>\n",
       "      <td>7777.000000</td>\n",
       "      <td>7777.000000</td>\n",
       "      <td>7777.000000</td>\n",
       "      <td>7777.000000</td>\n",
       "      <td>7777.000000</td>\n",
       "      <td>7777.000000</td>\n",
       "    </tr>\n",
       "  </tbody>\n",
       "</table>\n",
       "</div>"
      ],
      "text/plain": [
       "               here            is             a        sample        header  \\\n",
       "count  25100.000000  25100.000000  25100.000000  25100.000000  25100.000000   \n",
       "mean    3892.601594   3904.173825   3886.898765   3860.555737   3912.262032   \n",
       "std     2311.807900   2289.355877   2307.604485   2292.949294   2294.116489   \n",
       "min        0.000000      0.000000      0.000000      0.000000      0.000000   \n",
       "25%     1773.000000   2030.750000   1770.750000   1762.000000   2024.000000   \n",
       "50%     4024.000000   4007.000000   4004.000000   3747.000000   4011.000000   \n",
       "75%     6001.000000   5776.000000   6002.000000   5756.000000   6014.000000   \n",
       "max     7777.000000   7777.000000   7777.000000   7777.000000   7777.000000   \n",
       "\n",
       "                 to           try  \n",
       "count  25100.000000  25100.000000  \n",
       "mean    3875.674422   3885.523984  \n",
       "std     2299.705854   2305.860627  \n",
       "min        0.000000      0.000000  \n",
       "25%     1773.000000   1766.000000  \n",
       "50%     3757.000000   3773.000000  \n",
       "75%     5773.000000   6001.000000  \n",
       "max     7777.000000   7777.000000  "
      ]
     },
     "execution_count": 27,
     "metadata": {},
     "output_type": "execute_result"
    }
   ],
   "source": [
    "df.describe()"
   ]
  },
  {
   "cell_type": "code",
   "execution_count": 28,
   "metadata": {},
   "outputs": [
    {
     "data": {
      "image/png": "[encoded data removed]",
      "text/plain": [
       "<matplotlib.figure.Figure at 0x10d3c4d30>"
      ]
     },
     "metadata": {},
     "output_type": "display_data"
    }
   ],
   "source": [
    "_=df['sample'].plot(kind='hist',bins=10)"
   ]
  },
  {
   "cell_type": "markdown",
   "metadata": {},
   "source": [
    "## Easy filtering"
   ]
  },
  {
   "cell_type": "code",
   "execution_count": 29,
   "metadata": {
    "collapsed": true
   },
   "outputs": [],
   "source": [
    "mask = range(2000,2500)"
   ]
  },
  {
   "cell_type": "code",
   "execution_count": 30,
   "metadata": {},
   "outputs": [
    {
     "data": {
      "text/html": [
       "<div>\n",
       "<style>\n",
       "    .dataframe thead tr:only-child th {\n",
       "        text-align: right;\n",
       "    }\n",
       "\n",
       "    .dataframe thead th {\n",
       "        text-align: left;\n",
       "    }\n",
       "\n",
       "    .dataframe tbody tr th {\n",
       "        vertical-align: top;\n",
       "    }\n",
       "</style>\n",
       "<table border=\"1\" class=\"dataframe\">\n",
       "  <thead>\n",
       "    <tr style=\"text-align: right;\">\n",
       "      <th></th>\n",
       "      <th>here</th>\n",
       "      <th>is</th>\n",
       "      <th>a</th>\n",
       "      <th>sample</th>\n",
       "      <th>header</th>\n",
       "      <th>to</th>\n",
       "      <th>try</th>\n",
       "    </tr>\n",
       "  </thead>\n",
       "  <tbody>\n",
       "    <tr>\n",
       "      <th>11</th>\n",
       "      <td>1704</td>\n",
       "      <td>247</td>\n",
       "      <td>1473</td>\n",
       "      <td>2270</td>\n",
       "      <td>7623</td>\n",
       "      <td>5334</td>\n",
       "      <td>5615</td>\n",
       "    </tr>\n",
       "    <tr>\n",
       "      <th>12</th>\n",
       "      <td>6203</td>\n",
       "      <td>5234</td>\n",
       "      <td>6167</td>\n",
       "      <td>2014</td>\n",
       "      <td>6341</td>\n",
       "      <td>4761</td>\n",
       "      <td>5127</td>\n",
       "    </tr>\n",
       "    <tr>\n",
       "      <th>27</th>\n",
       "      <td>7407</td>\n",
       "      <td>6516</td>\n",
       "      <td>3603</td>\n",
       "      <td>2424</td>\n",
       "      <td>5542</td>\n",
       "      <td>2141</td>\n",
       "      <td>7633</td>\n",
       "    </tr>\n",
       "    <tr>\n",
       "      <th>62</th>\n",
       "      <td>3715</td>\n",
       "      <td>3133</td>\n",
       "      <td>6333</td>\n",
       "      <td>2365</td>\n",
       "      <td>7173</td>\n",
       "      <td>6355</td>\n",
       "      <td>3743</td>\n",
       "    </tr>\n",
       "    <tr>\n",
       "      <th>63</th>\n",
       "      <td>2745</td>\n",
       "      <td>3066</td>\n",
       "      <td>5137</td>\n",
       "      <td>2177</td>\n",
       "      <td>3631</td>\n",
       "      <td>2572</td>\n",
       "      <td>7002</td>\n",
       "    </tr>\n",
       "  </tbody>\n",
       "</table>\n",
       "</div>"
      ],
      "text/plain": [
       "    here    is     a  sample  header    to   try\n",
       "11  1704   247  1473    2270    7623  5334  5615\n",
       "12  6203  5234  6167    2014    6341  4761  5127\n",
       "27  7407  6516  3603    2424    5542  2141  7633\n",
       "62  3715  3133  6333    2365    7173  6355  3743\n",
       "63  2745  3066  5137    2177    3631  2572  7002"
      ]
     },
     "execution_count": 30,
     "metadata": {},
     "output_type": "execute_result"
    }
   ],
   "source": [
    "df_filt = df[df['sample'].isin(mask)]\n",
    "df_filt.head()"
   ]
  },
  {
   "cell_type": "code",
   "execution_count": 31,
   "metadata": {},
   "outputs": [
    {
     "data": {
      "image/png": "[encoded data removed]",
      "text/plain": [
       "<matplotlib.figure.Figure at 0x10cdb87f0>"
      ]
     },
     "metadata": {},
     "output_type": "display_data"
    }
   ],
   "source": [
    "_=df_filt['sample'].plot(kind='hist',bins=10)"
   ]
  },
  {
   "cell_type": "markdown",
   "metadata": {},
   "source": [
    "## Easy to export to RLDB (from Python or from BASH)"
   ]
  },
  {
   "cell_type": "code",
   "execution_count": null,
   "metadata": {
    "collapsed": true
   },
   "outputs": [],
   "source": [
    "import psycopg2 as sql"
   ]
  },
  {
   "cell_type": "code",
   "execution_count": null,
   "metadata": {
    "collapsed": true
   },
   "outputs": [],
   "source": [
    "SQL_STATEMENT = \"\"\"\n",
    "    COPY %s FROM STDIN WITH\n",
    "        CSV\n",
    "        HEADER\n",
    "        DELIMITER AS ','\n",
    "\"\"\""
   ]
  },
  {
   "cell_type": "code",
   "execution_count": null,
   "metadata": {
    "collapsed": true
   },
   "outputs": [],
   "source": [
    "def csv2db(conn, table_name, fh):\n",
    "    cursor = conn.cursor()\n",
    "    cursor.copy_expert(sql=SQL_STATEMENT % table_name, file=fh)\n",
    "    conn.commit()\n",
    "    cursor.close()"
   ]
  },
  {
   "cell_type": "code",
   "execution_count": null,
   "metadata": {
    "collapsed": true
   },
   "outputs": [],
   "source": [
    "connection = sql.connect(\"dbname=cdse user=qwofford password=NOTMYPASSWORD\")\n",
    "try:\n",
    "    csv2db(connection,'master',fh)\n",
    "finally:\n",
    "    connection.close()"
   ]
  }
 ],
 "metadata": {
  "kernelspec": {
   "display_name": "Python 3",
   "language": "python",
   "name": "python3"
  },
  "language_info": {
   "codemirror_mode": {
    "name": "ipython",
    "version": 3
   },
   "file_extension": ".py",
   "mimetype": "text/x-python",
   "name": "python",
   "nbconvert_exporter": "python",
   "pygments_lexer": "ipython3",
   "version": "3.6.1"
  }
 },
 "nbformat": 4,
 "nbformat_minor": 2
}
